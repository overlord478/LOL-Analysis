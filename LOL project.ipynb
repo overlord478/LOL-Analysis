{
 "cells": [
  {
   "cell_type": "markdown",
   "metadata": {},
   "source": [
    "__LOL Project__\n",
    "\n",
    "This project is based on League of Legends online game and it's tribunal judgement system which was retired in 2015"
   ]
  },
  {
   "cell_type": "markdown",
   "metadata": {},
   "source": [
    "__Used Technologies__\n",
    "\n",
    "Pandas module for EDA and a new NLP transformer from Hugging-face which is used for sentiment analysis"
   ]
  },
  {
   "cell_type": "code",
   "execution_count": 1,
   "metadata": {},
   "outputs": [],
   "source": [
    "import pandas as pd\n",
    "from transformers import pipeline as pl"
   ]
  },
  {
   "cell_type": "markdown",
   "metadata": {},
   "source": [
    "Using the pre-trained sentiment-analysis pipeline "
   ]
  },
  {
   "cell_type": "code",
   "execution_count": 2,
   "metadata": {},
   "outputs": [
    {
     "name": "stderr",
     "output_type": "stream",
     "text": [
      "All model checkpoint layers were used when initializing TFDistilBertForSequenceClassification.\n",
      "\n",
      "All the layers of TFDistilBertForSequenceClassification were initialized from the model checkpoint at distilbert-base-uncased-finetuned-sst-2-english.\n",
      "If your task is similar to the task the model of the checkpoint was trained on, you can already use TFDistilBertForSequenceClassification for predictions without further training.\n"
     ]
    }
   ],
   "source": [
    "classifier = pl('sentiment-analysis')"
   ]
  },
  {
   "cell_type": "markdown",
   "metadata": {},
   "source": [
    "Using the League of Legends Tribunal dataset from Kaggle"
   ]
  },
  {
   "cell_type": "code",
   "execution_count": 3,
   "metadata": {},
   "outputs": [],
   "source": [
    "data = pd.read_csv('chatlogs.csv')"
   ]
  },
  {
   "cell_type": "code",
   "execution_count": 4,
   "metadata": {},
   "outputs": [
    {
     "name": "stdout",
     "output_type": "stream",
     "text": [
      "<class 'pandas.core.frame.DataFrame'>\n",
      "RangeIndex: 1697222 entries, 0 to 1697221\n",
      "Data columns (total 10 columns):\n",
      " #   Column                     Dtype \n",
      "---  ------                     ----- \n",
      " 0   Unnamed: 0                 int64 \n",
      " 1   message                    object\n",
      " 2   association_to_offender    object\n",
      " 3   time                       object\n",
      " 4   case_total_reports         int64 \n",
      " 5   allied_report_count        int64 \n",
      " 6   enemy_report_count         int64 \n",
      " 7   most_common_report_reason  object\n",
      " 8   chatlog_id                 int64 \n",
      " 9   champion_name              object\n",
      "dtypes: int64(5), object(5)\n",
      "memory usage: 129.5+ MB\n"
     ]
    }
   ],
   "source": [
    "data.info()"
   ]
  },
  {
   "cell_type": "code",
   "execution_count": 5,
   "metadata": {},
   "outputs": [
    {
     "data": {
      "text/html": [
       "<div>\n",
       "<style scoped>\n",
       "    .dataframe tbody tr th:only-of-type {\n",
       "        vertical-align: middle;\n",
       "    }\n",
       "\n",
       "    .dataframe tbody tr th {\n",
       "        vertical-align: top;\n",
       "    }\n",
       "\n",
       "    .dataframe thead th {\n",
       "        text-align: right;\n",
       "    }\n",
       "</style>\n",
       "<table border=\"1\" class=\"dataframe\">\n",
       "  <thead>\n",
       "    <tr style=\"text-align: right;\">\n",
       "      <th></th>\n",
       "      <th>Unnamed: 0</th>\n",
       "      <th>message</th>\n",
       "      <th>association_to_offender</th>\n",
       "      <th>time</th>\n",
       "      <th>case_total_reports</th>\n",
       "      <th>allied_report_count</th>\n",
       "      <th>enemy_report_count</th>\n",
       "      <th>most_common_report_reason</th>\n",
       "      <th>chatlog_id</th>\n",
       "      <th>champion_name</th>\n",
       "    </tr>\n",
       "  </thead>\n",
       "  <tbody>\n",
       "    <tr>\n",
       "      <th>0</th>\n",
       "      <td>0</td>\n",
       "      <td>gold 2 zed</td>\n",
       "      <td>enemy</td>\n",
       "      <td>00:00:21</td>\n",
       "      <td>8</td>\n",
       "      <td>0</td>\n",
       "      <td>2</td>\n",
       "      <td>Negative Attitude</td>\n",
       "      <td>1</td>\n",
       "      <td>Udyr</td>\n",
       "    </tr>\n",
       "    <tr>\n",
       "      <th>1</th>\n",
       "      <td>1</td>\n",
       "      <td>IIII</td>\n",
       "      <td>enemy</td>\n",
       "      <td>00:00:27</td>\n",
       "      <td>8</td>\n",
       "      <td>0</td>\n",
       "      <td>2</td>\n",
       "      <td>Negative Attitude</td>\n",
       "      <td>1</td>\n",
       "      <td>Riven</td>\n",
       "    </tr>\n",
       "    <tr>\n",
       "      <th>2</th>\n",
       "      <td>2</td>\n",
       "      <td>nice premade lie :o</td>\n",
       "      <td>enemy</td>\n",
       "      <td>00:00:27</td>\n",
       "      <td>8</td>\n",
       "      <td>0</td>\n",
       "      <td>2</td>\n",
       "      <td>Negative Attitude</td>\n",
       "      <td>1</td>\n",
       "      <td>Udyr</td>\n",
       "    </tr>\n",
       "    <tr>\n",
       "      <th>3</th>\n",
       "      <td>3</td>\n",
       "      <td>ISI</td>\n",
       "      <td>enemy</td>\n",
       "      <td>00:00:28</td>\n",
       "      <td>8</td>\n",
       "      <td>0</td>\n",
       "      <td>2</td>\n",
       "      <td>Negative Attitude</td>\n",
       "      <td>1</td>\n",
       "      <td>Riven</td>\n",
       "    </tr>\n",
       "    <tr>\n",
       "      <th>4</th>\n",
       "      <td>4</td>\n",
       "      <td>smiteless pls</td>\n",
       "      <td>enemy</td>\n",
       "      <td>00:00:43</td>\n",
       "      <td>8</td>\n",
       "      <td>0</td>\n",
       "      <td>2</td>\n",
       "      <td>Negative Attitude</td>\n",
       "      <td>1</td>\n",
       "      <td>Udyr</td>\n",
       "    </tr>\n",
       "  </tbody>\n",
       "</table>\n",
       "</div>"
      ],
      "text/plain": [
       "   Unnamed: 0              message association_to_offender      time  \\\n",
       "0           0           gold 2 zed                   enemy  00:00:21   \n",
       "1           1                 IIII                   enemy  00:00:27   \n",
       "2           2  nice premade lie :o                   enemy  00:00:27   \n",
       "3           3                  ISI                   enemy  00:00:28   \n",
       "4           4        smiteless pls                   enemy  00:00:43   \n",
       "\n",
       "   case_total_reports  allied_report_count  enemy_report_count  \\\n",
       "0                   8                    0                   2   \n",
       "1                   8                    0                   2   \n",
       "2                   8                    0                   2   \n",
       "3                   8                    0                   2   \n",
       "4                   8                    0                   2   \n",
       "\n",
       "  most_common_report_reason  chatlog_id champion_name  \n",
       "0         Negative Attitude           1          Udyr  \n",
       "1         Negative Attitude           1         Riven  \n",
       "2         Negative Attitude           1          Udyr  \n",
       "3         Negative Attitude           1         Riven  \n",
       "4         Negative Attitude           1          Udyr  "
      ]
     },
     "execution_count": 5,
     "metadata": {},
     "output_type": "execute_result"
    }
   ],
   "source": [
    "data.head()"
   ]
  },
  {
   "cell_type": "markdown",
   "metadata": {},
   "source": [
    "The important columns are the message and most_common_report_reason let's isolate these columns"
   ]
  },
  {
   "cell_type": "code",
   "execution_count": 6,
   "metadata": {},
   "outputs": [],
   "source": [
    "data_ext = data.loc[:,['message','most_common_report_reason']]"
   ]
  },
  {
   "cell_type": "code",
   "execution_count": 7,
   "metadata": {},
   "outputs": [
    {
     "name": "stdout",
     "output_type": "stream",
     "text": [
      "<class 'pandas.core.frame.DataFrame'>\n",
      "RangeIndex: 1697222 entries, 0 to 1697221\n",
      "Data columns (total 2 columns):\n",
      " #   Column                     Dtype \n",
      "---  ------                     ----- \n",
      " 0   message                    object\n",
      " 1   most_common_report_reason  object\n",
      "dtypes: object(2)\n",
      "memory usage: 25.9+ MB\n"
     ]
    }
   ],
   "source": [
    "data_ext.info()"
   ]
  },
  {
   "cell_type": "code",
   "execution_count": 8,
   "metadata": {},
   "outputs": [
    {
     "data": {
      "text/html": [
       "<div>\n",
       "<style scoped>\n",
       "    .dataframe tbody tr th:only-of-type {\n",
       "        vertical-align: middle;\n",
       "    }\n",
       "\n",
       "    .dataframe tbody tr th {\n",
       "        vertical-align: top;\n",
       "    }\n",
       "\n",
       "    .dataframe thead th {\n",
       "        text-align: right;\n",
       "    }\n",
       "</style>\n",
       "<table border=\"1\" class=\"dataframe\">\n",
       "  <thead>\n",
       "    <tr style=\"text-align: right;\">\n",
       "      <th></th>\n",
       "      <th>message</th>\n",
       "      <th>most_common_report_reason</th>\n",
       "    </tr>\n",
       "  </thead>\n",
       "  <tbody>\n",
       "    <tr>\n",
       "      <th>0</th>\n",
       "      <td>gold 2 zed</td>\n",
       "      <td>Negative Attitude</td>\n",
       "    </tr>\n",
       "    <tr>\n",
       "      <th>1</th>\n",
       "      <td>IIII</td>\n",
       "      <td>Negative Attitude</td>\n",
       "    </tr>\n",
       "    <tr>\n",
       "      <th>2</th>\n",
       "      <td>nice premade lie :o</td>\n",
       "      <td>Negative Attitude</td>\n",
       "    </tr>\n",
       "    <tr>\n",
       "      <th>3</th>\n",
       "      <td>ISI</td>\n",
       "      <td>Negative Attitude</td>\n",
       "    </tr>\n",
       "    <tr>\n",
       "      <th>4</th>\n",
       "      <td>smiteless pls</td>\n",
       "      <td>Negative Attitude</td>\n",
       "    </tr>\n",
       "  </tbody>\n",
       "</table>\n",
       "</div>"
      ],
      "text/plain": [
       "               message most_common_report_reason\n",
       "0           gold 2 zed         Negative Attitude\n",
       "1                 IIII         Negative Attitude\n",
       "2  nice premade lie :o         Negative Attitude\n",
       "3                  ISI         Negative Attitude\n",
       "4        smiteless pls         Negative Attitude"
      ]
     },
     "execution_count": 8,
     "metadata": {},
     "output_type": "execute_result"
    }
   ],
   "source": [
    "data_ext.head()"
   ]
  },
  {
   "cell_type": "markdown",
   "metadata": {},
   "source": [
    "Lets analyse the columns"
   ]
  },
  {
   "cell_type": "code",
   "execution_count": 9,
   "metadata": {},
   "outputs": [
    {
     "data": {
      "text/plain": [
       "Verbal Abuse            570122\n",
       "Negative Attitude       482139\n",
       "Offensive Language      420474\n",
       "Assisting Enemy Team    191461\n",
       "Spamming                 28341\n",
       "Inappropriate Name        4685\n",
       "Name: most_common_report_reason, dtype: int64"
      ]
     },
     "execution_count": 9,
     "metadata": {},
     "output_type": "execute_result"
    }
   ],
   "source": [
    "data_ext.most_common_report_reason.value_counts()"
   ]
  },
  {
   "cell_type": "markdown",
   "metadata": {},
   "source": [
    "Out of 1.7 million rows lets focus on the Verbal Abuse and Offensive Langugae"
   ]
  },
  {
   "cell_type": "markdown",
   "metadata": {},
   "source": [
    "### Data Preprocessing"
   ]
  },
  {
   "cell_type": "code",
   "execution_count": 10,
   "metadata": {},
   "outputs": [],
   "source": [
    "data_ext = data_ext.dropna(axis=0,subset=['message','most_common_report_reason'])"
   ]
  },
  {
   "cell_type": "code",
   "execution_count": 11,
   "metadata": {},
   "outputs": [
    {
     "name": "stdout",
     "output_type": "stream",
     "text": [
      "<class 'pandas.core.frame.DataFrame'>\n",
      "Int64Index: 1697193 entries, 0 to 1697221\n",
      "Data columns (total 2 columns):\n",
      " #   Column                     Dtype \n",
      "---  ------                     ----- \n",
      " 0   message                    object\n",
      " 1   most_common_report_reason  object\n",
      "dtypes: object(2)\n",
      "memory usage: 38.8+ MB\n"
     ]
    }
   ],
   "source": [
    "data_ext.info()"
   ]
  },
  {
   "cell_type": "markdown",
   "metadata": {},
   "source": [
    " Randomly selecting  values from 1.7 million data"
   ]
  },
  {
   "cell_type": "code",
   "execution_count": 12,
   "metadata": {},
   "outputs": [],
   "source": [
    "data_ext = data_ext.sample(frac=0.02)"
   ]
  },
  {
   "cell_type": "code",
   "execution_count": 13,
   "metadata": {},
   "outputs": [
    {
     "name": "stdout",
     "output_type": "stream",
     "text": [
      "<class 'pandas.core.frame.DataFrame'>\n",
      "Int64Index: 33944 entries, 1253869 to 620339\n",
      "Data columns (total 2 columns):\n",
      " #   Column                     Non-Null Count  Dtype \n",
      "---  ------                     --------------  ----- \n",
      " 0   message                    33944 non-null  object\n",
      " 1   most_common_report_reason  33944 non-null  object\n",
      "dtypes: object(2)\n",
      "memory usage: 795.6+ KB\n"
     ]
    }
   ],
   "source": [
    "data_ext.info()"
   ]
  },
  {
   "cell_type": "code",
   "execution_count": 14,
   "metadata": {},
   "outputs": [
    {
     "data": {
      "text/html": [
       "<div>\n",
       "<style scoped>\n",
       "    .dataframe tbody tr th:only-of-type {\n",
       "        vertical-align: middle;\n",
       "    }\n",
       "\n",
       "    .dataframe tbody tr th {\n",
       "        vertical-align: top;\n",
       "    }\n",
       "\n",
       "    .dataframe thead th {\n",
       "        text-align: right;\n",
       "    }\n",
       "</style>\n",
       "<table border=\"1\" class=\"dataframe\">\n",
       "  <thead>\n",
       "    <tr style=\"text-align: right;\">\n",
       "      <th></th>\n",
       "      <th>message</th>\n",
       "      <th>most_common_report_reason</th>\n",
       "    </tr>\n",
       "  </thead>\n",
       "  <tbody>\n",
       "    <tr>\n",
       "      <th>1253869</th>\n",
       "      <td>when I get there engage straight awwayt</td>\n",
       "      <td>Offensive Language</td>\n",
       "    </tr>\n",
       "    <tr>\n",
       "      <th>386691</th>\n",
       "      <td>:X</td>\n",
       "      <td>Verbal Abuse</td>\n",
       "    </tr>\n",
       "    <tr>\n",
       "      <th>992329</th>\n",
       "      <td>sry no mana left to save u :(</td>\n",
       "      <td>Negative Attitude</td>\n",
       "    </tr>\n",
       "    <tr>\n",
       "      <th>122321</th>\n",
       "      <td>YOU ARE NOTHING</td>\n",
       "      <td>Negative Attitude</td>\n",
       "    </tr>\n",
       "    <tr>\n",
       "      <th>342755</th>\n",
       "      <td>they are premade</td>\n",
       "      <td>Verbal Abuse</td>\n",
       "    </tr>\n",
       "  </tbody>\n",
       "</table>\n",
       "</div>"
      ],
      "text/plain": [
       "                                         message most_common_report_reason\n",
       "1253869  when I get there engage straight awwayt        Offensive Language\n",
       "386691                                        :X              Verbal Abuse\n",
       "992329             sry no mana left to save u :(         Negative Attitude\n",
       "122321                           YOU ARE NOTHING         Negative Attitude\n",
       "342755                          they are premade              Verbal Abuse"
      ]
     },
     "execution_count": 14,
     "metadata": {},
     "output_type": "execute_result"
    }
   ],
   "source": [
    "data_ext.head()"
   ]
  },
  {
   "cell_type": "markdown",
   "metadata": {},
   "source": [
    "Filtering Verbal Abuse and Offensive Language from report_reasons"
   ]
  },
  {
   "cell_type": "code",
   "execution_count": 15,
   "metadata": {},
   "outputs": [],
   "source": [
    "data_ext = data_ext[(data_ext.most_common_report_reason == \"Verbal Abuse\") | (data_ext.most_common_report_reason == 'Offensive Language')]"
   ]
  },
  {
   "cell_type": "code",
   "execution_count": 16,
   "metadata": {},
   "outputs": [
    {
     "name": "stdout",
     "output_type": "stream",
     "text": [
      "<class 'pandas.core.frame.DataFrame'>\n",
      "Int64Index: 19777 entries, 1253869 to 620339\n",
      "Data columns (total 2 columns):\n",
      " #   Column                     Non-Null Count  Dtype \n",
      "---  ------                     --------------  ----- \n",
      " 0   message                    19777 non-null  object\n",
      " 1   most_common_report_reason  19777 non-null  object\n",
      "dtypes: object(2)\n",
      "memory usage: 463.5+ KB\n"
     ]
    }
   ],
   "source": [
    "data_ext.info()"
   ]
  },
  {
   "cell_type": "code",
   "execution_count": 17,
   "metadata": {},
   "outputs": [
    {
     "data": {
      "text/html": [
       "<div>\n",
       "<style scoped>\n",
       "    .dataframe tbody tr th:only-of-type {\n",
       "        vertical-align: middle;\n",
       "    }\n",
       "\n",
       "    .dataframe tbody tr th {\n",
       "        vertical-align: top;\n",
       "    }\n",
       "\n",
       "    .dataframe thead th {\n",
       "        text-align: right;\n",
       "    }\n",
       "</style>\n",
       "<table border=\"1\" class=\"dataframe\">\n",
       "  <thead>\n",
       "    <tr style=\"text-align: right;\">\n",
       "      <th></th>\n",
       "      <th>message</th>\n",
       "      <th>most_common_report_reason</th>\n",
       "    </tr>\n",
       "  </thead>\n",
       "  <tbody>\n",
       "    <tr>\n",
       "      <th>1253869</th>\n",
       "      <td>when I get there engage straight awwayt</td>\n",
       "      <td>Offensive Language</td>\n",
       "    </tr>\n",
       "    <tr>\n",
       "      <th>386691</th>\n",
       "      <td>:X</td>\n",
       "      <td>Verbal Abuse</td>\n",
       "    </tr>\n",
       "    <tr>\n",
       "      <th>342755</th>\n",
       "      <td>they are premade</td>\n",
       "      <td>Verbal Abuse</td>\n",
       "    </tr>\n",
       "    <tr>\n",
       "      <th>690515</th>\n",
       "      <td>why riot made that shit ...</td>\n",
       "      <td>Verbal Abuse</td>\n",
       "    </tr>\n",
       "    <tr>\n",
       "      <th>1569853</th>\n",
       "      <td>am day dreamin</td>\n",
       "      <td>Verbal Abuse</td>\n",
       "    </tr>\n",
       "  </tbody>\n",
       "</table>\n",
       "</div>"
      ],
      "text/plain": [
       "                                         message most_common_report_reason\n",
       "1253869  when I get there engage straight awwayt        Offensive Language\n",
       "386691                                        :X              Verbal Abuse\n",
       "342755                          they are premade              Verbal Abuse\n",
       "690515               why riot made that shit ...              Verbal Abuse\n",
       "1569853                           am day dreamin              Verbal Abuse"
      ]
     },
     "execution_count": 17,
     "metadata": {},
     "output_type": "execute_result"
    }
   ],
   "source": [
    "data_ext.head()"
   ]
  },
  {
   "cell_type": "markdown",
   "metadata": {},
   "source": [
    "Creating New Column for sentiment analysis"
   ]
  },
  {
   "cell_type": "code",
   "execution_count": 19,
   "metadata": {},
   "outputs": [],
   "source": [
    "data_ext['chat_sentiment'] = None"
   ]
  },
  {
   "cell_type": "code",
   "execution_count": 21,
   "metadata": {},
   "outputs": [
    {
     "name": "stdout",
     "output_type": "stream",
     "text": [
      "<class 'pandas.core.frame.DataFrame'>\n",
      "Int64Index: 19777 entries, 1253869 to 620339\n",
      "Data columns (total 3 columns):\n",
      " #   Column                     Non-Null Count  Dtype \n",
      "---  ------                     --------------  ----- \n",
      " 0   message                    19777 non-null  object\n",
      " 1   most_common_report_reason  19777 non-null  object\n",
      " 2   chat_sentiment             0 non-null      object\n",
      "dtypes: object(3)\n",
      "memory usage: 618.0+ KB\n"
     ]
    }
   ],
   "source": [
    "data_ext.info()"
   ]
  },
  {
   "cell_type": "markdown",
   "metadata": {},
   "source": [
    "Applying The Analysis"
   ]
  },
  {
   "cell_type": "code",
   "execution_count": 23,
   "metadata": {},
   "outputs": [],
   "source": [
    "for i,dt in enumerate(data_ext.iloc[:,0]):\n",
    "    data_ext.iloc[i,2] = classifier(dt)[0]['label']"
   ]
  },
  {
   "cell_type": "code",
   "execution_count": 24,
   "metadata": {},
   "outputs": [
    {
     "name": "stdout",
     "output_type": "stream",
     "text": [
      "<class 'pandas.core.frame.DataFrame'>\n",
      "Int64Index: 19777 entries, 1253869 to 620339\n",
      "Data columns (total 3 columns):\n",
      " #   Column                     Non-Null Count  Dtype \n",
      "---  ------                     --------------  ----- \n",
      " 0   message                    19777 non-null  object\n",
      " 1   most_common_report_reason  19777 non-null  object\n",
      " 2   chat_sentiment             19777 non-null  object\n",
      "dtypes: object(3)\n",
      "memory usage: 618.0+ KB\n"
     ]
    }
   ],
   "source": [
    "data_ext.info()"
   ]
  },
  {
   "cell_type": "code",
   "execution_count": 25,
   "metadata": {},
   "outputs": [
    {
     "data": {
      "text/html": [
       "<div>\n",
       "<style scoped>\n",
       "    .dataframe tbody tr th:only-of-type {\n",
       "        vertical-align: middle;\n",
       "    }\n",
       "\n",
       "    .dataframe tbody tr th {\n",
       "        vertical-align: top;\n",
       "    }\n",
       "\n",
       "    .dataframe thead th {\n",
       "        text-align: right;\n",
       "    }\n",
       "</style>\n",
       "<table border=\"1\" class=\"dataframe\">\n",
       "  <thead>\n",
       "    <tr style=\"text-align: right;\">\n",
       "      <th></th>\n",
       "      <th>message</th>\n",
       "      <th>most_common_report_reason</th>\n",
       "      <th>chat_sentiment</th>\n",
       "    </tr>\n",
       "  </thead>\n",
       "  <tbody>\n",
       "    <tr>\n",
       "      <th>1253869</th>\n",
       "      <td>when I get there engage straight awwayt</td>\n",
       "      <td>Offensive Language</td>\n",
       "      <td>NEGATIVE</td>\n",
       "    </tr>\n",
       "    <tr>\n",
       "      <th>386691</th>\n",
       "      <td>:X</td>\n",
       "      <td>Verbal Abuse</td>\n",
       "      <td>POSITIVE</td>\n",
       "    </tr>\n",
       "    <tr>\n",
       "      <th>342755</th>\n",
       "      <td>they are premade</td>\n",
       "      <td>Verbal Abuse</td>\n",
       "      <td>NEGATIVE</td>\n",
       "    </tr>\n",
       "    <tr>\n",
       "      <th>690515</th>\n",
       "      <td>why riot made that shit ...</td>\n",
       "      <td>Verbal Abuse</td>\n",
       "      <td>NEGATIVE</td>\n",
       "    </tr>\n",
       "    <tr>\n",
       "      <th>1569853</th>\n",
       "      <td>am day dreamin</td>\n",
       "      <td>Verbal Abuse</td>\n",
       "      <td>POSITIVE</td>\n",
       "    </tr>\n",
       "    <tr>\n",
       "      <th>1169955</th>\n",
       "      <td>wp riot</td>\n",
       "      <td>Offensive Language</td>\n",
       "      <td>NEGATIVE</td>\n",
       "    </tr>\n",
       "    <tr>\n",
       "      <th>340690</th>\n",
       "      <td>the chat is so much nicer with trist on ignore</td>\n",
       "      <td>Offensive Language</td>\n",
       "      <td>NEGATIVE</td>\n",
       "    </tr>\n",
       "    <tr>\n",
       "      <th>1306721</th>\n",
       "      <td>LO</td>\n",
       "      <td>Verbal Abuse</td>\n",
       "      <td>POSITIVE</td>\n",
       "    </tr>\n",
       "    <tr>\n",
       "      <th>1123169</th>\n",
       "      <td>just go away</td>\n",
       "      <td>Verbal Abuse</td>\n",
       "      <td>NEGATIVE</td>\n",
       "    </tr>\n",
       "    <tr>\n",
       "      <th>1416178</th>\n",
       "      <td>dw</td>\n",
       "      <td>Offensive Language</td>\n",
       "      <td>POSITIVE</td>\n",
       "    </tr>\n",
       "    <tr>\n",
       "      <th>509072</th>\n",
       "      <td>kata 0/3 report her please</td>\n",
       "      <td>Verbal Abuse</td>\n",
       "      <td>POSITIVE</td>\n",
       "    </tr>\n",
       "    <tr>\n",
       "      <th>760932</th>\n",
       "      <td>riven op in late</td>\n",
       "      <td>Offensive Language</td>\n",
       "      <td>POSITIVE</td>\n",
       "    </tr>\n",
       "    <tr>\n",
       "      <th>189128</th>\n",
       "      <td>50 sek</td>\n",
       "      <td>Offensive Language</td>\n",
       "      <td>NEGATIVE</td>\n",
       "    </tr>\n",
       "    <tr>\n",
       "      <th>1301244</th>\n",
       "      <td>gg morde</td>\n",
       "      <td>Offensive Language</td>\n",
       "      <td>NEGATIVE</td>\n",
       "    </tr>\n",
       "    <tr>\n",
       "      <th>1068673</th>\n",
       "      <td>buy some wards ;\\</td>\n",
       "      <td>Offensive Language</td>\n",
       "      <td>POSITIVE</td>\n",
       "    </tr>\n",
       "    <tr>\n",
       "      <th>943547</th>\n",
       "      <td>red</td>\n",
       "      <td>Verbal Abuse</td>\n",
       "      <td>NEGATIVE</td>\n",
       "    </tr>\n",
       "    <tr>\n",
       "      <th>974651</th>\n",
       "      <td>ks</td>\n",
       "      <td>Offensive Language</td>\n",
       "      <td>POSITIVE</td>\n",
       "    </tr>\n",
       "    <tr>\n",
       "      <th>1504738</th>\n",
       "      <td>riven used flash?</td>\n",
       "      <td>Verbal Abuse</td>\n",
       "      <td>NEGATIVE</td>\n",
       "    </tr>\n",
       "    <tr>\n",
       "      <th>1123379</th>\n",
       "      <td>we'll wait till she pops her cleanse</td>\n",
       "      <td>Verbal Abuse</td>\n",
       "      <td>NEGATIVE</td>\n",
       "    </tr>\n",
       "    <tr>\n",
       "      <th>1602975</th>\n",
       "      <td>u</td>\n",
       "      <td>Verbal Abuse</td>\n",
       "      <td>POSITIVE</td>\n",
       "    </tr>\n",
       "  </tbody>\n",
       "</table>\n",
       "</div>"
      ],
      "text/plain": [
       "                                                message  \\\n",
       "1253869         when I get there engage straight awwayt   \n",
       "386691                                               :X   \n",
       "342755                                 they are premade   \n",
       "690515                      why riot made that shit ...   \n",
       "1569853                                  am day dreamin   \n",
       "1169955                                         wp riot   \n",
       "340690   the chat is so much nicer with trist on ignore   \n",
       "1306721                                              LO   \n",
       "1123169                                    just go away   \n",
       "1416178                                              dw   \n",
       "509072                       kata 0/3 report her please   \n",
       "760932                                 riven op in late   \n",
       "189128                                           50 sek   \n",
       "1301244                                        gg morde   \n",
       "1068673                               buy some wards ;\\   \n",
       "943547                                              red   \n",
       "974651                                               ks   \n",
       "1504738                               riven used flash?   \n",
       "1123379            we'll wait till she pops her cleanse   \n",
       "1602975                                               u   \n",
       "\n",
       "        most_common_report_reason chat_sentiment  \n",
       "1253869        Offensive Language       NEGATIVE  \n",
       "386691               Verbal Abuse       POSITIVE  \n",
       "342755               Verbal Abuse       NEGATIVE  \n",
       "690515               Verbal Abuse       NEGATIVE  \n",
       "1569853              Verbal Abuse       POSITIVE  \n",
       "1169955        Offensive Language       NEGATIVE  \n",
       "340690         Offensive Language       NEGATIVE  \n",
       "1306721              Verbal Abuse       POSITIVE  \n",
       "1123169              Verbal Abuse       NEGATIVE  \n",
       "1416178        Offensive Language       POSITIVE  \n",
       "509072               Verbal Abuse       POSITIVE  \n",
       "760932         Offensive Language       POSITIVE  \n",
       "189128         Offensive Language       NEGATIVE  \n",
       "1301244        Offensive Language       NEGATIVE  \n",
       "1068673        Offensive Language       POSITIVE  \n",
       "943547               Verbal Abuse       NEGATIVE  \n",
       "974651         Offensive Language       POSITIVE  \n",
       "1504738              Verbal Abuse       NEGATIVE  \n",
       "1123379              Verbal Abuse       NEGATIVE  \n",
       "1602975              Verbal Abuse       POSITIVE  "
      ]
     },
     "execution_count": 25,
     "metadata": {},
     "output_type": "execute_result"
    }
   ],
   "source": [
    "data_ext.head(20)"
   ]
  },
  {
   "cell_type": "markdown",
   "metadata": {},
   "source": [
    "Picking random samples from the sentiment classified data-set"
   ]
  },
  {
   "cell_type": "code",
   "execution_count": 26,
   "metadata": {},
   "outputs": [],
   "source": [
    "final_data = data_ext.sample(frac=0.25)"
   ]
  },
  {
   "cell_type": "code",
   "execution_count": 27,
   "metadata": {},
   "outputs": [
    {
     "name": "stdout",
     "output_type": "stream",
     "text": [
      "<class 'pandas.core.frame.DataFrame'>\n",
      "Int64Index: 4944 entries, 1065925 to 745433\n",
      "Data columns (total 3 columns):\n",
      " #   Column                     Non-Null Count  Dtype \n",
      "---  ------                     --------------  ----- \n",
      " 0   message                    4944 non-null   object\n",
      " 1   most_common_report_reason  4944 non-null   object\n",
      " 2   chat_sentiment             4944 non-null   object\n",
      "dtypes: object(3)\n",
      "memory usage: 154.5+ KB\n"
     ]
    }
   ],
   "source": [
    "final_data.info()"
   ]
  },
  {
   "cell_type": "code",
   "execution_count": 28,
   "metadata": {},
   "outputs": [
    {
     "data": {
      "text/html": [
       "<div>\n",
       "<style scoped>\n",
       "    .dataframe tbody tr th:only-of-type {\n",
       "        vertical-align: middle;\n",
       "    }\n",
       "\n",
       "    .dataframe tbody tr th {\n",
       "        vertical-align: top;\n",
       "    }\n",
       "\n",
       "    .dataframe thead th {\n",
       "        text-align: right;\n",
       "    }\n",
       "</style>\n",
       "<table border=\"1\" class=\"dataframe\">\n",
       "  <thead>\n",
       "    <tr style=\"text-align: right;\">\n",
       "      <th></th>\n",
       "      <th>message</th>\n",
       "      <th>most_common_report_reason</th>\n",
       "      <th>chat_sentiment</th>\n",
       "    </tr>\n",
       "  </thead>\n",
       "  <tbody>\n",
       "    <tr>\n",
       "      <th>1065925</th>\n",
       "      <td>stealing blue</td>\n",
       "      <td>Offensive Language</td>\n",
       "      <td>NEGATIVE</td>\n",
       "    </tr>\n",
       "    <tr>\n",
       "      <th>618814</th>\n",
       "      <td>i see you ashe</td>\n",
       "      <td>Verbal Abuse</td>\n",
       "      <td>POSITIVE</td>\n",
       "    </tr>\n",
       "    <tr>\n",
       "      <th>1646536</th>\n",
       "      <td>karma did u play longer ?</td>\n",
       "      <td>Verbal Abuse</td>\n",
       "      <td>NEGATIVE</td>\n",
       "    </tr>\n",
       "    <tr>\n",
       "      <th>990261</th>\n",
       "      <td>malp pls</td>\n",
       "      <td>Verbal Abuse</td>\n",
       "      <td>NEGATIVE</td>\n",
       "    </tr>\n",
       "    <tr>\n",
       "      <th>1640986</th>\n",
       "      <td>t'avait la securité</td>\n",
       "      <td>Offensive Language</td>\n",
       "      <td>NEGATIVE</td>\n",
       "    </tr>\n",
       "    <tr>\n",
       "      <th>750242</th>\n",
       "      <td>Mais bon</td>\n",
       "      <td>Verbal Abuse</td>\n",
       "      <td>POSITIVE</td>\n",
       "    </tr>\n",
       "    <tr>\n",
       "      <th>904441</th>\n",
       "      <td>tehy are playing quite noob</td>\n",
       "      <td>Verbal Abuse</td>\n",
       "      <td>NEGATIVE</td>\n",
       "    </tr>\n",
       "    <tr>\n",
       "      <th>1387121</th>\n",
       "      <td>elise</td>\n",
       "      <td>Verbal Abuse</td>\n",
       "      <td>POSITIVE</td>\n",
       "    </tr>\n",
       "    <tr>\n",
       "      <th>402573</th>\n",
       "      <td>'' take me i m so squishy '' and then u get ra...</td>\n",
       "      <td>Verbal Abuse</td>\n",
       "      <td>NEGATIVE</td>\n",
       "    </tr>\n",
       "    <tr>\n",
       "      <th>847169</th>\n",
       "      <td>so bad</td>\n",
       "      <td>Verbal Abuse</td>\n",
       "      <td>NEGATIVE</td>\n",
       "    </tr>\n",
       "    <tr>\n",
       "      <th>997851</th>\n",
       "      <td>gj</td>\n",
       "      <td>Offensive Language</td>\n",
       "      <td>POSITIVE</td>\n",
       "    </tr>\n",
       "    <tr>\n",
       "      <th>1348327</th>\n",
       "      <td>boxes</td>\n",
       "      <td>Verbal Abuse</td>\n",
       "      <td>POSITIVE</td>\n",
       "    </tr>\n",
       "    <tr>\n",
       "      <th>208622</th>\n",
       "      <td>wait</td>\n",
       "      <td>Verbal Abuse</td>\n",
       "      <td>NEGATIVE</td>\n",
       "    </tr>\n",
       "    <tr>\n",
       "      <th>1334516</th>\n",
       "      <td>and u didnt gank top</td>\n",
       "      <td>Offensive Language</td>\n",
       "      <td>NEGATIVE</td>\n",
       "    </tr>\n",
       "    <tr>\n",
       "      <th>794117</th>\n",
       "      <td>gg</td>\n",
       "      <td>Verbal Abuse</td>\n",
       "      <td>POSITIVE</td>\n",
       "    </tr>\n",
       "    <tr>\n",
       "      <th>884323</th>\n",
       "      <td>fk</td>\n",
       "      <td>Verbal Abuse</td>\n",
       "      <td>POSITIVE</td>\n",
       "    </tr>\n",
       "    <tr>\n",
       "      <th>42359</th>\n",
       "      <td>Stay alive pls</td>\n",
       "      <td>Verbal Abuse</td>\n",
       "      <td>POSITIVE</td>\n",
       "    </tr>\n",
       "    <tr>\n",
       "      <th>615369</th>\n",
       "      <td>walla walla ding dong</td>\n",
       "      <td>Verbal Abuse</td>\n",
       "      <td>NEGATIVE</td>\n",
       "    </tr>\n",
       "    <tr>\n",
       "      <th>462898</th>\n",
       "      <td>about loosing</td>\n",
       "      <td>Verbal Abuse</td>\n",
       "      <td>NEGATIVE</td>\n",
       "    </tr>\n",
       "    <tr>\n",
       "      <th>374617</th>\n",
       "      <td>remember to report darius pls</td>\n",
       "      <td>Verbal Abuse</td>\n",
       "      <td>POSITIVE</td>\n",
       "    </tr>\n",
       "  </tbody>\n",
       "</table>\n",
       "</div>"
      ],
      "text/plain": [
       "                                                   message  \\\n",
       "1065925                                      stealing blue   \n",
       "618814                                      i see you ashe   \n",
       "1646536                          karma did u play longer ?   \n",
       "990261                                            malp pls   \n",
       "1640986                                t'avait la securité   \n",
       "750242                                            Mais bon   \n",
       "904441                         tehy are playing quite noob   \n",
       "1387121                                              elise   \n",
       "402573   '' take me i m so squishy '' and then u get ra...   \n",
       "847169                                              so bad   \n",
       "997851                                                  gj   \n",
       "1348327                                              boxes   \n",
       "208622                                                wait   \n",
       "1334516                               and u didnt gank top   \n",
       "794117                                                  gg   \n",
       "884323                                                  fk   \n",
       "42359                                       Stay alive pls   \n",
       "615369                               walla walla ding dong   \n",
       "462898                                       about loosing   \n",
       "374617                       remember to report darius pls   \n",
       "\n",
       "        most_common_report_reason chat_sentiment  \n",
       "1065925        Offensive Language       NEGATIVE  \n",
       "618814               Verbal Abuse       POSITIVE  \n",
       "1646536              Verbal Abuse       NEGATIVE  \n",
       "990261               Verbal Abuse       NEGATIVE  \n",
       "1640986        Offensive Language       NEGATIVE  \n",
       "750242               Verbal Abuse       POSITIVE  \n",
       "904441               Verbal Abuse       NEGATIVE  \n",
       "1387121              Verbal Abuse       POSITIVE  \n",
       "402573               Verbal Abuse       NEGATIVE  \n",
       "847169               Verbal Abuse       NEGATIVE  \n",
       "997851         Offensive Language       POSITIVE  \n",
       "1348327              Verbal Abuse       POSITIVE  \n",
       "208622               Verbal Abuse       NEGATIVE  \n",
       "1334516        Offensive Language       NEGATIVE  \n",
       "794117               Verbal Abuse       POSITIVE  \n",
       "884323               Verbal Abuse       POSITIVE  \n",
       "42359                Verbal Abuse       POSITIVE  \n",
       "615369               Verbal Abuse       NEGATIVE  \n",
       "462898               Verbal Abuse       NEGATIVE  \n",
       "374617               Verbal Abuse       POSITIVE  "
      ]
     },
     "execution_count": 28,
     "metadata": {},
     "output_type": "execute_result"
    }
   ],
   "source": [
    "final_data.head(20)"
   ]
  },
  {
   "cell_type": "markdown",
   "metadata": {},
   "source": [
    "Finding the total distinct count of chat_sentiment"
   ]
  },
  {
   "cell_type": "code",
   "execution_count": 33,
   "metadata": {},
   "outputs": [
    {
     "data": {
      "text/plain": [
       "Index(['NEGATIVE', 'POSITIVE'], dtype='object')"
      ]
     },
     "execution_count": 33,
     "metadata": {},
     "output_type": "execute_result"
    }
   ],
   "source": [
    "final_data.chat_sentiment.value_counts().index"
   ]
  },
  {
   "cell_type": "markdown",
   "metadata": {},
   "source": [
    "Here \"NEGATIVE\" chat_sentiment is where the transformer finds that the given text is abusive or offensive whereas the \"POSITIVE\" chat_sentiment means the text is non-abusive or not offensive,but there are some errors in predicting the sentiment due to the pretrained nature of the transformer. To reduce the error in the final result lets take average values from different number of iterations"
   ]
  },
  {
   "cell_type": "code",
   "execution_count": 44,
   "metadata": {},
   "outputs": [],
   "source": [
    "import numpy as np\n",
    "def avg_sentiment_value(n_iterations=101):\n",
    "    negative = []\n",
    "    positive = []\n",
    "    for i in range(0,n_iterations):\n",
    "        temp = data_ext.sample(frac=0.25)\n",
    "        if temp.chat_sentiment.value_counts().index[0] == \"NEGATIVE\":\n",
    "            negative.append(temp.chat_sentiment.value_counts().values[0])\n",
    "            positive.append(temp.chat_sentiment.value_counts().values[1])\n",
    "        else:\n",
    "            positive.append(temp.chat_sentiment.value_counts().values[0])\n",
    "            negative.append(temp.chat_sentiment.value_counts().values[1])\n",
    "\n",
    "    return [round(np.mean(negative)),round(np.mean(positive))]"
   ]
  },
  {
   "cell_type": "code",
   "execution_count": 46,
   "metadata": {},
   "outputs": [
    {
     "name": "stdout",
     "output_type": "stream",
     "text": [
      "[2662, 2665, 2663, 2663, 2662, 2664, 2663, 2661, 2662, 2661]\n",
      "[2275, 2281, 2284, 2282, 2280, 2283, 2281, 2282, 2280, 2282]\n"
     ]
    }
   ],
   "source": [
    "pos = []\n",
    "neg = []\n",
    "iter_list = [51,101,151,201,251,301,351,401,451,501]\n",
    "for i in iter_list:\n",
    "    neg.append(avg_sentiment_value(i)[0])\n",
    "    pos.append(avg_sentiment_value(i)[1])\n",
    "\n",
    "print(neg)\n",
    "print(pos)\n",
    "    "
   ]
  },
  {
   "cell_type": "code",
   "execution_count": 76,
   "metadata": {},
   "outputs": [],
   "source": [
    "import matplotlib.pyplot as plt"
   ]
  },
  {
   "cell_type": "markdown",
   "metadata": {},
   "source": [
    "Plotting the values of negative and positive observation"
   ]
  },
  {
   "cell_type": "code",
   "execution_count": 59,
   "metadata": {},
   "outputs": [
    {
     "data": {
      "text/plain": [
       "(0.0, 3000.0)"
      ]
     },
     "execution_count": 59,
     "metadata": {},
     "output_type": "execute_result"
    },
    {
     "data": {
      "image/png": "[encoded data removed]",
      "text/plain": [
       "<Figure size 432x288 with 1 Axes>"
      ]
     },
     "metadata": {
      "needs_background": "light"
     },
     "output_type": "display_data"
    }
   ],
   "source": [
    "plt.plot(range(51,502,50),neg,label='Negative sentiment',marker='o')\n",
    "plt.plot(range(51,502,50),pos,label='Positive sentiment',marker='*')\n",
    "plt.legend()\n",
    "plt.xlabel('No of Iterations')\n",
    "plt.ylabel('No of observations')\n",
    "plt.title(\"Neg vs Pos\")\n",
    "plt.ylim([0,3000])"
   ]
  },
  {
   "cell_type": "markdown",
   "metadata": {},
   "source": [
    "From the Above plot the number of negative and positive observation for thier respective iterations is very similar for different number of iterations where the median values of negative messages and positive messages are around 2663 and 2282 respectively  "
   ]
  },
  {
   "cell_type": "code",
   "execution_count": 75,
   "metadata": {},
   "outputs": [
    {
     "data": {
      "text/plain": [
       "([<matplotlib.patches.Wedge at 0x2a0b2a4c9d0>,\n",
       "  <matplotlib.patches.Wedge at 0x2a0b2a36d60>],\n",
       " [Text(-1.0919538335911279, -0.1328037096832753, 'Negative'),\n",
       "  Text(1.1912223774819313, 0.1448766626696491, 'Positive')],\n",
       " [Text(-0.5956111819587969, -0.07243838709996833, '53.9%'),\n",
       "  Text(0.6948797201977932, 0.08451138655729529, '46.1%')])"
      ]
     },
     "execution_count": 75,
     "metadata": {},
     "output_type": "execute_result"
    },
    {
     "data": {
      "image/png": "[encoded data removed]",
      "text/plain": [
       "<Figure size 432x288 with 1 Axes>"
      ]
     },
     "metadata": {},
     "output_type": "display_data"
    }
   ],
   "source": [
    "plt.pie([2663,2282],labels=[\"Negative\",\"Positive\"],startangle=90,autopct='%1.1f%%',explode=[0,0.1],shadow=True)"
   ]
  },
  {
   "cell_type": "markdown",
   "metadata": {},
   "source": [
    "## Conclusion\n",
    "\n",
    "Analysis on randomly sampled League of Legends Tribunal data shows that approximately 46% of the report recived by the tribunal judgement system is false accusation towards other players and the remaining 54% of messages contained messages with either Verbal Abuse or language of offensive nature. These results may also vary due unpredictalbe presence of\n",
    "text-patterns,symbols,acronyms,spelling errors and languages with different utf encodings "
   ]
  },
  {
   "cell_type": "code",
   "execution_count": null,
   "metadata": {},
   "outputs": [],
   "source": []
  }
 ],
 "metadata": {
  "kernelspec": {
   "display_name": "Python 3",
   "language": "python",
   "name": "python3"
  },
  "language_info": {
   "codemirror_mode": {
    "name": "ipython",
    "version": 3
   },
   "file_extension": ".py",
   "mimetype": "text/x-python",
   "name": "python",
   "nbconvert_exporter": "python",
   "pygments_lexer": "ipython3",
   "version": "3.8.3"
  }
 },
 "nbformat": 4,
 "nbformat_minor": 4
}
